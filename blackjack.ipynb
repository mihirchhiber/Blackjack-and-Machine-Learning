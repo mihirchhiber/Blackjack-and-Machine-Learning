{
 "cells": [
  {
   "cell_type": "code",
   "execution_count": 82,
   "metadata": {},
   "outputs": [
    {
     "name": "stdout",
     "output_type": "stream",
     "text": [
      "13\n",
      "18\n"
     ]
    }
   ],
   "source": [
    "\"\"\"BlackJack 21\"\"\"\n",
    "from random import seed\n",
    "from random import random\n",
    "seed(1)\n",
    "tem=0\n",
    "def sort(obj):\n",
    "    for i in range(len(obj)-1):\n",
    "        for j in range(len(obj)-i-1):\n",
    "            if obj[j]>obj[j+1]:\n",
    "                tem=obj[j]\n",
    "                obj[j]=obj[j+1]\n",
    "                obj[j+1]=tem\n",
    "    return obj\n",
    "def value(obj):\n",
    "    obj=sort(obj)\n",
    "    val=0\n",
    "    for i in obj:\n",
    "        if i in ['e','f','g']:\n",
    "            val=val+10\n",
    "        elif i in ['2','2','2','2','3','3','3','3','4','4','4','4','5','5','5','5','6','6','6','6','7','7','7','7','8','8','8','8','9','9','9','9','10','10','10','10']:\n",
    "            val=val+int(i)\n",
    "        else:\n",
    "            if val<=10:\n",
    "                val=val+11\n",
    "            else:\n",
    "                    val=val+1\n",
    "    return val\n",
    "def BJ():\n",
    "    seed(1)\n",
    "    lis=['2','2','2','2','3','3','3','3','4','4','4','4','5','5','5','5','6','6','6','6','7','7','7','7','8','8','8','8','9','9','9','9','10','10','10','10','e','e','e','e','f','f','f','f','g','g','g','g','h','h','h','h',]\n",
    "    cards=52\n",
    "    a=[]\n",
    "    b=[]\n",
    "    num=int((random()*100)%cards)\n",
    "    a.append(lis[num])\n",
    "    del lis[num]\n",
    "    cards=cards-1\n",
    "    num=int((random()*100)%cards)\n",
    "    b.append(lis[num])\n",
    "    del lis[num]\n",
    "    cards=cards-1\n",
    "    num=int((random()*100)%cards)\n",
    "    a.append(lis[num])\n",
    "    del lis[num]\n",
    "    cards=cards-1\n",
    "    num=int((random()*100)%cards)\n",
    "    b.append(lis[num])\n",
    "    del lis[num]\n",
    "    cards=cards-1\n",
    "    print(value(a))\n",
    "    print(value(b))\n",
    "BJ()"
   ]
  },
  {
   "cell_type": "code",
   "execution_count": 24,
   "metadata": {},
   "outputs": [
    {
     "name": "stdout",
     "output_type": "stream",
     "text": [
      "0\n",
      "1\n",
      "2\n",
      "3\n",
      "4\n",
      "5\n",
      "6\n",
      "7\n",
      "8\n",
      "9\n"
     ]
    }
   ],
   "source": [
    "for i in range(10):\n",
    "    print(i)"
   ]
  },
  {
   "cell_type": "code",
   "execution_count": 71,
   "metadata": {},
   "outputs": [
    {
     "name": "stdout",
     "output_type": "stream",
     "text": [
      "['1', 'd']\n"
     ]
    }
   ],
   "source": [
    "lala=['1','d']\n",
    "lala.sort()\n",
    "print(lala)"
   ]
  },
  {
   "cell_type": "code",
   "execution_count": 62,
   "metadata": {},
   "outputs": [
    {
     "name": "stdout",
     "output_type": "stream",
     "text": [
      "a\n"
     ]
    }
   ],
   "source": [
    "if 'a'>'1':\n",
    "    print('a')"
   ]
  },
  {
   "cell_type": "code",
   "execution_count": 65,
   "metadata": {},
   "outputs": [],
   "source": [
    "a=int('1')+int('2')"
   ]
  },
  {
   "cell_type": "code",
   "execution_count": 66,
   "metadata": {},
   "outputs": [
    {
     "name": "stdout",
     "output_type": "stream",
     "text": [
      "3\n"
     ]
    }
   ],
   "source": [
    "print(a)"
   ]
  },
  {
   "cell_type": "code",
   "execution_count": null,
   "metadata": {},
   "outputs": [],
   "source": []
  }
 ],
 "metadata": {
  "kernelspec": {
   "display_name": "Python 3",
   "language": "python",
   "name": "python3"
  },
  "language_info": {
   "codemirror_mode": {
    "name": "ipython",
    "version": 3
   },
   "file_extension": ".py",
   "mimetype": "text/x-python",
   "name": "python",
   "nbconvert_exporter": "python",
   "pygments_lexer": "ipython3",
   "version": "3.7.3"
  }
 },
 "nbformat": 4,
 "nbformat_minor": 2
}
